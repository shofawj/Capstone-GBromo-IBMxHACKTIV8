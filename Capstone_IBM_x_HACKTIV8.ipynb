{
  "cells": [
    {
      "cell_type": "code",
      "execution_count": 1,
      "metadata": {
        "colab": {
          "base_uri": "https://localhost:8080/"
        },
        "id": "TbWJBgBA9S9O",
        "outputId": "a535c04f-1482-4438-c35e-01ff4bb6f31d"
      },
      "outputs": [
        {
          "name": "stdout",
          "output_type": "stream",
          "text": [
            "Collecting langchain_community\n",
            "  Downloading langchain_community-0.3.27-py3-none-any.whl.metadata (2.9 kB)\n",
            "Requirement already satisfied: langchain-core<1.0.0,>=0.3.66 in /usr/local/lib/python3.11/dist-packages (from langchain_community) (0.3.68)\n",
            "Requirement already satisfied: langchain<1.0.0,>=0.3.26 in /usr/local/lib/python3.11/dist-packages (from langchain_community) (0.3.26)\n",
            "Requirement already satisfied: SQLAlchemy<3,>=1.4 in /usr/local/lib/python3.11/dist-packages (from langchain_community) (2.0.41)\n",
            "Requirement already satisfied: requests<3,>=2 in /usr/local/lib/python3.11/dist-packages (from langchain_community) (2.32.3)\n",
            "Requirement already satisfied: PyYAML>=5.3 in /usr/local/lib/python3.11/dist-packages (from langchain_community) (6.0.2)\n",
            "Requirement already satisfied: aiohttp<4.0.0,>=3.8.3 in /usr/local/lib/python3.11/dist-packages (from langchain_community) (3.11.15)\n",
            "Requirement already satisfied: tenacity!=8.4.0,<10,>=8.1.0 in /usr/local/lib/python3.11/dist-packages (from langchain_community) (8.5.0)\n",
            "Collecting dataclasses-json<0.7,>=0.5.7 (from langchain_community)\n",
            "  Downloading dataclasses_json-0.6.7-py3-none-any.whl.metadata (25 kB)\n",
            "Collecting pydantic-settings<3.0.0,>=2.4.0 (from langchain_community)\n",
            "  Downloading pydantic_settings-2.10.1-py3-none-any.whl.metadata (3.4 kB)\n",
            "Requirement already satisfied: langsmith>=0.1.125 in /usr/local/lib/python3.11/dist-packages (from langchain_community) (0.4.5)\n",
            "Collecting httpx-sse<1.0.0,>=0.4.0 (from langchain_community)\n",
            "  Downloading httpx_sse-0.4.1-py3-none-any.whl.metadata (9.4 kB)\n",
            "Requirement already satisfied: numpy>=1.26.2 in /usr/local/lib/python3.11/dist-packages (from langchain_community) (2.0.2)\n",
            "Requirement already satisfied: aiohappyeyeballs>=2.3.0 in /usr/local/lib/python3.11/dist-packages (from aiohttp<4.0.0,>=3.8.3->langchain_community) (2.6.1)\n",
            "Requirement already satisfied: aiosignal>=1.1.2 in /usr/local/lib/python3.11/dist-packages (from aiohttp<4.0.0,>=3.8.3->langchain_community) (1.4.0)\n",
            "Requirement already satisfied: attrs>=17.3.0 in /usr/local/lib/python3.11/dist-packages (from aiohttp<4.0.0,>=3.8.3->langchain_community) (25.3.0)\n",
            "Requirement already satisfied: frozenlist>=1.1.1 in /usr/local/lib/python3.11/dist-packages (from aiohttp<4.0.0,>=3.8.3->langchain_community) (1.7.0)\n",
            "Requirement already satisfied: multidict<7.0,>=4.5 in /usr/local/lib/python3.11/dist-packages (from aiohttp<4.0.0,>=3.8.3->langchain_community) (6.6.3)\n",
            "Requirement already satisfied: propcache>=0.2.0 in /usr/local/lib/python3.11/dist-packages (from aiohttp<4.0.0,>=3.8.3->langchain_community) (0.3.2)\n",
            "Requirement already satisfied: yarl<2.0,>=1.17.0 in /usr/local/lib/python3.11/dist-packages (from aiohttp<4.0.0,>=3.8.3->langchain_community) (1.20.1)\n",
            "Collecting marshmallow<4.0.0,>=3.18.0 (from dataclasses-json<0.7,>=0.5.7->langchain_community)\n",
            "  Downloading marshmallow-3.26.1-py3-none-any.whl.metadata (7.3 kB)\n",
            "Collecting typing-inspect<1,>=0.4.0 (from dataclasses-json<0.7,>=0.5.7->langchain_community)\n",
            "  Downloading typing_inspect-0.9.0-py3-none-any.whl.metadata (1.5 kB)\n",
            "Requirement already satisfied: langchain-text-splitters<1.0.0,>=0.3.8 in /usr/local/lib/python3.11/dist-packages (from langchain<1.0.0,>=0.3.26->langchain_community) (0.3.8)\n",
            "Requirement already satisfied: pydantic<3.0.0,>=2.7.4 in /usr/local/lib/python3.11/dist-packages (from langchain<1.0.0,>=0.3.26->langchain_community) (2.11.7)\n",
            "Requirement already satisfied: jsonpatch<2.0,>=1.33 in /usr/local/lib/python3.11/dist-packages (from langchain-core<1.0.0,>=0.3.66->langchain_community) (1.33)\n",
            "Requirement already satisfied: packaging<25,>=23.2 in /usr/local/lib/python3.11/dist-packages (from langchain-core<1.0.0,>=0.3.66->langchain_community) (24.2)\n",
            "Requirement already satisfied: typing-extensions>=4.7 in /usr/local/lib/python3.11/dist-packages (from langchain-core<1.0.0,>=0.3.66->langchain_community) (4.14.1)\n",
            "Requirement already satisfied: httpx<1,>=0.23.0 in /usr/local/lib/python3.11/dist-packages (from langsmith>=0.1.125->langchain_community) (0.28.1)\n",
            "Requirement already satisfied: orjson<4.0.0,>=3.9.14 in /usr/local/lib/python3.11/dist-packages (from langsmith>=0.1.125->langchain_community) (3.10.18)\n",
            "Requirement already satisfied: requests-toolbelt<2.0.0,>=1.0.0 in /usr/local/lib/python3.11/dist-packages (from langsmith>=0.1.125->langchain_community) (1.0.0)\n",
            "Requirement already satisfied: zstandard<0.24.0,>=0.23.0 in /usr/local/lib/python3.11/dist-packages (from langsmith>=0.1.125->langchain_community) (0.23.0)\n",
            "Collecting python-dotenv>=0.21.0 (from pydantic-settings<3.0.0,>=2.4.0->langchain_community)\n",
            "  Downloading python_dotenv-1.1.1-py3-none-any.whl.metadata (24 kB)\n",
            "Requirement already satisfied: typing-inspection>=0.4.0 in /usr/local/lib/python3.11/dist-packages (from pydantic-settings<3.0.0,>=2.4.0->langchain_community) (0.4.1)\n",
            "Requirement already satisfied: charset-normalizer<4,>=2 in /usr/local/lib/python3.11/dist-packages (from requests<3,>=2->langchain_community) (3.4.2)\n",
            "Requirement already satisfied: idna<4,>=2.5 in /usr/local/lib/python3.11/dist-packages (from requests<3,>=2->langchain_community) (3.10)\n",
            "Requirement already satisfied: urllib3<3,>=1.21.1 in /usr/local/lib/python3.11/dist-packages (from requests<3,>=2->langchain_community) (2.4.0)\n",
            "Requirement already satisfied: certifi>=2017.4.17 in /usr/local/lib/python3.11/dist-packages (from requests<3,>=2->langchain_community) (2025.7.14)\n",
            "Requirement already satisfied: greenlet>=1 in /usr/local/lib/python3.11/dist-packages (from SQLAlchemy<3,>=1.4->langchain_community) (3.2.3)\n",
            "Requirement already satisfied: anyio in /usr/local/lib/python3.11/dist-packages (from httpx<1,>=0.23.0->langsmith>=0.1.125->langchain_community) (4.9.0)\n",
            "Requirement already satisfied: httpcore==1.* in /usr/local/lib/python3.11/dist-packages (from httpx<1,>=0.23.0->langsmith>=0.1.125->langchain_community) (1.0.9)\n",
            "Requirement already satisfied: h11>=0.16 in /usr/local/lib/python3.11/dist-packages (from httpcore==1.*->httpx<1,>=0.23.0->langsmith>=0.1.125->langchain_community) (0.16.0)\n",
            "Requirement already satisfied: jsonpointer>=1.9 in /usr/local/lib/python3.11/dist-packages (from jsonpatch<2.0,>=1.33->langchain-core<1.0.0,>=0.3.66->langchain_community) (3.0.0)\n",
            "Requirement already satisfied: annotated-types>=0.6.0 in /usr/local/lib/python3.11/dist-packages (from pydantic<3.0.0,>=2.7.4->langchain<1.0.0,>=0.3.26->langchain_community) (0.7.0)\n",
            "Requirement already satisfied: pydantic-core==2.33.2 in /usr/local/lib/python3.11/dist-packages (from pydantic<3.0.0,>=2.7.4->langchain<1.0.0,>=0.3.26->langchain_community) (2.33.2)\n",
            "Collecting mypy-extensions>=0.3.0 (from typing-inspect<1,>=0.4.0->dataclasses-json<0.7,>=0.5.7->langchain_community)\n",
            "  Downloading mypy_extensions-1.1.0-py3-none-any.whl.metadata (1.1 kB)\n",
            "Requirement already satisfied: sniffio>=1.1 in /usr/local/lib/python3.11/dist-packages (from anyio->httpx<1,>=0.23.0->langsmith>=0.1.125->langchain_community) (1.3.1)\n",
            "Downloading langchain_community-0.3.27-py3-none-any.whl (2.5 MB)\n",
            "\u001b[2K   \u001b[90m━━━━━━━━━━━━━━━━━━━━━━━━━━━━━━━━━━━━━━━━\u001b[0m \u001b[32m2.5/2.5 MB\u001b[0m \u001b[31m32.7 MB/s\u001b[0m eta \u001b[36m0:00:00\u001b[0m\n",
            "\u001b[?25hDownloading dataclasses_json-0.6.7-py3-none-any.whl (28 kB)\n",
            "Downloading httpx_sse-0.4.1-py3-none-any.whl (8.1 kB)\n",
            "Downloading pydantic_settings-2.10.1-py3-none-any.whl (45 kB)\n",
            "\u001b[2K   \u001b[90m━━━━━━━━━━━━━━━━━━━━━━━━━━━━━━━━━━━━━━━━\u001b[0m \u001b[32m45.2/45.2 kB\u001b[0m \u001b[31m4.4 MB/s\u001b[0m eta \u001b[36m0:00:00\u001b[0m\n",
            "\u001b[?25hDownloading marshmallow-3.26.1-py3-none-any.whl (50 kB)\n",
            "\u001b[2K   \u001b[90m━━━━━━━━━━━━━━━━━━━━━━━━━━━━━━━━━━━━━━━━\u001b[0m \u001b[32m50.9/50.9 kB\u001b[0m \u001b[31m4.6 MB/s\u001b[0m eta \u001b[36m0:00:00\u001b[0m\n",
            "\u001b[?25hDownloading python_dotenv-1.1.1-py3-none-any.whl (20 kB)\n",
            "Downloading typing_inspect-0.9.0-py3-none-any.whl (8.8 kB)\n",
            "Downloading mypy_extensions-1.1.0-py3-none-any.whl (5.0 kB)\n",
            "Installing collected packages: python-dotenv, mypy-extensions, marshmallow, httpx-sse, typing-inspect, pydantic-settings, dataclasses-json, langchain_community\n",
            "Successfully installed dataclasses-json-0.6.7 httpx-sse-0.4.1 langchain_community-0.3.27 marshmallow-3.26.1 mypy-extensions-1.1.0 pydantic-settings-2.10.1 python-dotenv-1.1.1 typing-inspect-0.9.0\n",
            "Collecting replicate\n",
            "  Downloading replicate-1.0.7-py3-none-any.whl.metadata (29 kB)\n",
            "Requirement already satisfied: httpx<1,>=0.21.0 in /usr/local/lib/python3.11/dist-packages (from replicate) (0.28.1)\n",
            "Requirement already satisfied: packaging in /usr/local/lib/python3.11/dist-packages (from replicate) (24.2)\n",
            "Requirement already satisfied: pydantic>1.10.7 in /usr/local/lib/python3.11/dist-packages (from replicate) (2.11.7)\n",
            "Requirement already satisfied: typing_extensions>=4.5.0 in /usr/local/lib/python3.11/dist-packages (from replicate) (4.14.1)\n",
            "Requirement already satisfied: anyio in /usr/local/lib/python3.11/dist-packages (from httpx<1,>=0.21.0->replicate) (4.9.0)\n",
            "Requirement already satisfied: certifi in /usr/local/lib/python3.11/dist-packages (from httpx<1,>=0.21.0->replicate) (2025.7.14)\n",
            "Requirement already satisfied: httpcore==1.* in /usr/local/lib/python3.11/dist-packages (from httpx<1,>=0.21.0->replicate) (1.0.9)\n",
            "Requirement already satisfied: idna in /usr/local/lib/python3.11/dist-packages (from httpx<1,>=0.21.0->replicate) (3.10)\n",
            "Requirement already satisfied: h11>=0.16 in /usr/local/lib/python3.11/dist-packages (from httpcore==1.*->httpx<1,>=0.21.0->replicate) (0.16.0)\n",
            "Requirement already satisfied: annotated-types>=0.6.0 in /usr/local/lib/python3.11/dist-packages (from pydantic>1.10.7->replicate) (0.7.0)\n",
            "Requirement already satisfied: pydantic-core==2.33.2 in /usr/local/lib/python3.11/dist-packages (from pydantic>1.10.7->replicate) (2.33.2)\n",
            "Requirement already satisfied: typing-inspection>=0.4.0 in /usr/local/lib/python3.11/dist-packages (from pydantic>1.10.7->replicate) (0.4.1)\n",
            "Requirement already satisfied: sniffio>=1.1 in /usr/local/lib/python3.11/dist-packages (from anyio->httpx<1,>=0.21.0->replicate) (1.3.1)\n",
            "Downloading replicate-1.0.7-py3-none-any.whl (48 kB)\n",
            "\u001b[2K   \u001b[90m━━━━━━━━━━━━━━━━━━━━━━━━━━━━━━━━━━━━━━━━\u001b[0m \u001b[32m48.6/48.6 kB\u001b[0m \u001b[31m2.2 MB/s\u001b[0m eta \u001b[36m0:00:00\u001b[0m\n",
            "\u001b[?25hInstalling collected packages: replicate\n",
            "Successfully installed replicate-1.0.7\n"
          ]
        }
      ],
      "source": [
        "!pip install langchain_community\n",
        "!pip install replicate"
      ]
    },
    {
      "cell_type": "code",
      "execution_count": 17,
      "metadata": {
        "id": "-5hPYdL3AXFO"
      },
      "outputs": [],
      "source": [
        "from langchain_community.llms import Replicate\n",
        "from google.colab import userdata\n",
        "import pandas as pd\n",
        "import os\n",
        "import re\n",
        "import seaborn as sns\n",
        "import matplotlib.pyplot as plt\n",
        "from collections import defaultdict\n",
        "from tqdm import tqdm\n",
        "os.environ['REPLICATE_API_TOKEN'] = userdata.get('api_token')"
      ]
    },
    {
      "cell_type": "code",
      "execution_count": 3,
      "metadata": {
        "id": "7GKsLVIRBVlc"
      },
      "outputs": [],
      "source": [
        "# Set model parameters\n",
        "parameters = {\n",
        "  \"top_k\": 5, #good to keep it focused but still allows some variation\n",
        "  \"top_p\": 0.9, #more precise and controlled answers\n",
        "  \"max_tokens\": 1024,\n",
        "  \"min_tokens\": 50, #prevent ultra short output\n",
        "  \"random_seed\": 42,\n",
        "  \"repetition_penalty\": 1.2, #avoid repetitibe phhrase\n",
        "  \"temperature\": 0.5,\n",
        "  \"stopping_criteria\": None,\n",
        "  \"stopping_sequence\": None\n",
        "}"
      ]
    },
    {
      "cell_type": "code",
      "execution_count": 4,
      "metadata": {
        "colab": {
          "base_uri": "https://localhost:8080/"
        },
        "id": "Rzcnte1NBYmq",
        "outputId": "53f4338a-fe6a-4f64-dfda-8a86878bcde0"
      },
      "outputs": [
        {
          "name": "stderr",
          "output_type": "stream",
          "text": [
            "WARNING:langchain_community.llms.replicate:Init param `input` is deprecated, please use `model_kwargs` instead.\n"
          ]
        }
      ],
      "source": [
        "# Initialize Granite model\n",
        "llm = Replicate(\n",
        "  model=\"ibm-granite/granite-3.3-8b-instruct\",\n",
        "  input=parameters,\n",
        ")"
      ]
    },
    {
      "cell_type": "markdown",
      "metadata": {
        "id": "HZhQQtJ4EGhw"
      },
      "source": [
        "#Dataset\n",
        "\n",
        "I collected the dataset myself by scraping Bromo Mount reviews from Google Maps"
      ]
    },
    {
      "cell_type": "code",
      "execution_count": 5,
      "metadata": {
        "id": "DSko4aS_BcZ6"
      },
      "outputs": [],
      "source": [
        "file_path = \"/content/IBMGBROMO.xlsx\"\n",
        "df = pd.read_excel(file_path)"
      ]
    },
    {
      "cell_type": "code",
      "execution_count": 6,
      "metadata": {
        "colab": {
          "base_uri": "https://localhost:8080/"
        },
        "id": "eXdlfu01CEsy",
        "outputId": "f68bd797-ad2a-4cae-81e7-f16b7b46c761"
      },
      "outputs": [
        {
          "name": "stdout",
          "output_type": "stream",
          "text": [
            "Sample data:\n",
            "               Reviewer Rating  \\\n",
            "0  Victoria Adeline Ayu    5,0   \n",
            "1                  Aqey    5,0   \n",
            "2   Syarif Hidayatullah    5,0   \n",
            "3         zannu fathony    5,0   \n",
            "4             Nadia Ayu    5,0   \n",
            "\n",
            "                                              Review  \n",
            "0  dingin banget hawanya..suwejuk..anginnya juga ...  \n",
            "1  Nungguin sunrise di atas dari jam 4 ampe jam 5...  \n",
            "2  Bromo, gunung yg bisa didaki oleh orang awam, ...  \n",
            "3  pemandangan matahari terbit yang menakjubkan, ...  \n",
            "4  Tempat terbaik yang pernah ada. Dingin, sejuk,...  \n"
          ]
        }
      ],
      "source": [
        "print(\"Sample data:\")\n",
        "print(df.head())"
      ]
    },
    {
      "cell_type": "markdown",
      "metadata": {
        "id": "JCfmIO7AEbFY"
      },
      "source": [
        "## LLM\n",
        "\n",
        "For each review, i’ll ask IBM Granite to extract:\n",
        "\n",
        "1. Sentiment — Positive / Negative / Mixed\n",
        "2. Summary\n",
        "3. Mentioned Aspects — e.g., location, service, cleanliness\n",
        "4. Complaints (if any) — Specific problems\n",
        "5. Recommendation — What the management should improve/do"
      ]
    },
    {
      "cell_type": "code",
      "execution_count": 34,
      "metadata": {
        "id": "KSUEekOdCIvX"
      },
      "outputs": [],
      "source": [
        "# LLM analysis function\n",
        "def analyze_review(review_text):\n",
        "  prompt = f\"\"\"\n",
        "You are an AI travel analyst.\n",
        "\n",
        "Analyze the following Gunung Bromo review:\n",
        "\n",
        "\\\"\\\"\\\"{review_text}\\\"\\\"\\\"\n",
        "\n",
        "1. Sentiment - Positive, Negative, or Mixed.\n",
        "2. Summarize the main point of the review.\n",
        "3. List specific things mentioned, like cleanliness, location, and service\n",
        "4. List any complaints mentioned; if none, write \"None\"\n",
        "5. Give one actionable recommendation for the management.\n",
        "\n",
        "Respond in this exact format:\n",
        "Sentiment: ...\n",
        "Summary: ...\n",
        "Things Mentioned (Praises): ...\n",
        "Complaints: ...\n",
        "Praises: ...\n",
        "Recommendation: ...\n",
        "  \"\"\"\n",
        "  output = llm.invoke(prompt)\n",
        "  return output"
      ]
    },
    {
      "cell_type": "code",
      "execution_count": 35,
      "metadata": {
        "colab": {
          "base_uri": "https://localhost:8080/"
        },
        "id": "HDs2D0wJCLK1",
        "outputId": "3099e8be-eb2c-4754-b247-fe00bebe044c"
      },
      "outputs": [
        {
          "name": "stdout",
          "output_type": "stream",
          "text": [
            "==============================================\n",
            "Original Review:\n",
            "Gunung berapi aktif yang luar biasa.\n",
            "Tamasya jip saat matahari terbit, terlalu padat untuk seleraku...\n",
            "Menunggang kuda yang sangat menyenangkan di kaldera\n",
            "\n",
            "AI Analysis:\n",
            " Sentiment: Positive\n",
            "Summary: The review expresses a highly positive experience with an active volcano, Gunung Bromo. The reviewer highlights the thrilling horseback riding adventure in the caldera during sunrise, describing it as an extraordinary and crowded event.\n",
            "\n",
            "Things Mentioned (Praises):\n",
            "- Active volcano (Gunung Bromo)\n",
            "- Unique sunrise tamu (crowd) experience\n",
            "- Thrilling horseback riding in the caldera\n",
            "\n",
            "Complaints: None\n",
            "\n",
            "Praises:\n",
            "- The extraordinary nature of the active volcano\n",
            "- The packed, lively atmosphere during sunrise\n",
            "- The enjoyable horseback riding experience in the caldera\n",
            "\n",
            "Recommendation: To maintain this positive sentiment, the management should ensure consistent safety measures and possibly regulate the number of visitors during peak times like sunrise to prevent overcrowding and enhance the overall experience.\n",
            "==============================================\n",
            "\n",
            "==============================================\n",
            "Original Review:\n",
            "Pemandangan luar biasa indah, perbukitan hijau dan perjalanan ekstrim, lebih baik naik sepeda motor daripada menyewa jeep 👍\n",
            "\n",
            "AI Analysis:\n",
            " Sentiment: Positive\n",
            "Summary: The reviewer expresses awe for the extraordinary view, the green hillscape, and the extreme journey, preferring to ride a motorbike over renting a jeep.\n",
            "Things Mentioned (Praises): \n",
            "- Breathtaking view (pemandangan luar biasa indah)\n",
            "- Green hillscape (perbukitan hijau)\n",
            "- Extreme journey (perjalanan ekstrim)\n",
            "- Preference for motorbike over jeep for transportation\n",
            "\n",
            "Complaints: None\n",
            "\n",
            "Praises: The extraordinary view, the lush green hills, the thrilling journey experience\n",
            "Recommendation: Continue emphasizing the unique and thrilling aspects of the journey to Gunung Bromo, and consider offering motorbike rentals as a standard or preferred option alongside jeep rentals to cater to diverse visitor preferences.\n",
            "==============================================\n",
            "\n"
          ]
        }
      ],
      "source": [
        "# Apply to 2 random reviews\n",
        "for i, row in df.sample(n=2, random_state=None).iterrows():\n",
        "  print(\"==============================================\")\n",
        "  print(f\"Original Review:\\n{row['Review']}\\n\")\n",
        "  result = analyze_review(row['Review'])\n",
        "  print(\"AI Analysis:\\n\", result)\n",
        "  print(\"==============================================\\n\")\n"
      ]
    },
    {
      "cell_type": "markdown",
      "metadata": {
        "id": "veE27R1MStpb"
      },
      "source": [
        "## Analysis"
      ]
    },
    {
      "cell_type": "code",
      "execution_count": 36,
      "metadata": {
        "id": "55z4kKzTStb5"
      },
      "outputs": [],
      "source": [
        "#Parse analysis results\n",
        "def parse_analysis(text):\n",
        "    result = {\n",
        "        'Sentiment': None,\n",
        "        'Summary': None,\n",
        "        'Things Mentioned': None,\n",
        "        'Complaints': None,\n",
        "        'Praises': None\n",
        "    }\n",
        "\n",
        "    current_key = None\n",
        "    for line in text.split('\\n'):\n",
        "        line = line.strip()\n",
        "        if line.startswith('Sentiment:'):\n",
        "            current_key = 'Sentiment'\n",
        "            result[current_key] = line.split(':', 1)[1].strip()\n",
        "        elif line.startswith('Summary:'):\n",
        "            current_key = 'Summary'\n",
        "            result[current_key] = line.split(':', 1)[1].strip()\n",
        "        elif line.startswith('Things Mentioned:'):\n",
        "            current_key = 'Things Mentioned'\n",
        "            result[current_key] = line.split(':', 1)[1].strip()\n",
        "        elif line.startswith('Complaints:'):\n",
        "            current_key = 'Complaints'\n",
        "            result[current_key] = line.split(':', 1)[1].strip()\n",
        "        elif line.startswith('Praises:'):\n",
        "            current_key = 'Praises'\n",
        "            result[current_key] = line.split(':', 1)[1].strip()\n",
        "        elif current_key and line:  # Handle multi-line values if it can\n",
        "            result[current_key] += \" \" + line\n",
        "\n",
        "    # Clean up the results\n",
        "    for key in result:\n",
        "        if result[key] and isinstance(result[key], str):\n",
        "            result[key] = result[key].strip()\n",
        "            if result[key].lower() == 'none':\n",
        "                result[key] = None\n",
        "\n",
        "    return result"
      ]
    },
    {
      "cell_type": "code",
      "execution_count": 37,
      "metadata": {
        "colab": {
          "base_uri": "https://localhost:8080/"
        },
        "id": "1A-iwMNOSsKJ",
        "outputId": "e27a5a25-0fa2-4b5d-bfbd-12cb8cb94862"
      },
      "outputs": [
        {
          "name": "stderr",
          "output_type": "stream",
          "text": [
            "100%|██████████| 250/250 [08:31<00:00,  2.04s/it]\n"
          ]
        }
      ],
      "source": [
        "# Analyze all reviews (or a sample for testing)\n",
        "analysis_results = []\n",
        "sample_size = min(250, len(df))  # Adjust sample size as needed and mine data is not too large around 400ish\n",
        "for i, row in tqdm(df.sample(n=sample_size, random_state=42).iterrows(), total=sample_size):\n",
        "    try:\n",
        "        output = analyze_review(row['Review'])\n",
        "        parsed = parse_analysis(output)\n",
        "        analysis_results.append(parsed)\n",
        "    except Exception as e:\n",
        "        print(f\"Error processing review {i}: {e}\")\n",
        "        continue"
      ]
    },
    {
      "cell_type": "code",
      "execution_count": 38,
      "metadata": {
        "id": "jQPl0t0ZTC6q"
      },
      "outputs": [],
      "source": [
        "# Convert to DataFrame\n",
        "results_df = pd.DataFrame(analysis_results)"
      ]
    },
    {
      "cell_type": "code",
      "execution_count": 39,
      "metadata": {
        "id": "DlHkTZmGTEkG"
      },
      "outputs": [],
      "source": [
        "# Sentiment Analysis\n",
        "sentiment_counts = results_df['Sentiment'].value_counts(normalize=True) * 100\n",
        "sentiment_data = {\n",
        "    'Positive': sentiment_counts.get('Positive', 0),\n",
        "    'Negative': sentiment_counts.get('Negative', 0),\n",
        "    'Mixed': sentiment_counts.get('Mixed', 0)\n",
        "}\n"
      ]
    },
    {
      "cell_type": "code",
      "execution_count": 40,
      "metadata": {
        "id": "gZ2fJVLsTGQ9"
      },
      "outputs": [],
      "source": [
        "# Complaint/Praise Analysis\n",
        "def categorize_review(row):\n",
        "    has_complaint = row['Complaints'] != 'None' and pd.notna(row['Complaints'])\n",
        "    has_praise = row['Praises'] != 'None' and pd.notna(row['Praises'])\n",
        "\n",
        "    if has_complaint and has_praise:\n",
        "        return 'Both'\n",
        "    elif has_complaint:\n",
        "        return 'Only Complaints'\n",
        "    elif has_praise:\n",
        "        return 'Only Praises'\n",
        "    else:\n",
        "        return 'Neither'\n",
        "\n",
        "results_df['Category'] = results_df.apply(categorize_review, axis=1)\n",
        "category_counts = results_df['Category'].value_counts(normalize=True) * 100"
      ]
    },
    {
      "cell_type": "code",
      "execution_count": 82,
      "metadata": {
        "id": "PtWluqdmTfIX"
      },
      "outputs": [],
      "source": [
        "# Wrd frequency analysis\n",
        "def get_word_freq(text_series, min_word_length=3, top_n=10):\n",
        "    word_freq = defaultdict(int)\n",
        "    stop_words = {'the', 'and', 'was', 'were', 'that', 'this', 'with', 'for', 'have', 'has', 'had', 'none', 'not', 'from', 'during', 'reviewer',\n",
        "        'explicitly', 'lack', 'due', 'consider', 'visitor', 'could', 'visitors', 'management', 'recommendation', 'recommendations', 'more', 'positive', 'experience',\n",
        "                  'enhance', 'mount','ensuring', 'should', 'continue','ensure'}\n",
        "\n",
        "    for text in text_series:\n",
        "        if pd.notna(text) and text not in [None, 'None', '']:\n",
        "            # Extract words more carefully\n",
        "            words = re.findall(r'\\b[\\w\\-]+\\b', text.lower())\n",
        "            for word in words:\n",
        "                if (len(word) >= min_word_length and\n",
        "                    word not in stop_words and\n",
        "                    not word.isnumeric()):\n",
        "                    word_freq[word] += 1\n",
        "\n",
        "    return sorted(word_freq.items(), key=lambda x: x[1], reverse=True)[:top_n]\n",
        "\n",
        "top_complaints = get_word_freq(results_df['Complaints'])\n",
        "top_praises = get_word_freq(results_df['Praises'])"
      ]
    },
    {
      "cell_type": "code",
      "execution_count": 83,
      "metadata": {
        "id": "ZA9Ad3W4TrR_"
      },
      "outputs": [],
      "source": [
        "# Generate Insights\n",
        "def generate_insights():\n",
        "    insights = []\n",
        "\n",
        "    # Sentiment insights\n",
        "    insights.append(\"● Sentiment Analysis:\")\n",
        "    insights.append(f\"- Positive reviews: {sentiment_data['Positive']:.1f}%\")\n",
        "    insights.append(f\"- Negative reviews: {sentiment_data['Negative']:.1f}%\")\n",
        "    insights.append(f\"- Mixed reviews: {sentiment_data['Mixed']:.1f}%\")\n",
        "\n",
        "    # Category insights\n",
        "    insights.append(\"\\n● Review Categories:\")\n",
        "    for category, percentage in category_counts.items():\n",
        "        insights.append(f\"- {category}: {percentage:.1f}%\")\n",
        "\n",
        "    # Top complaints\n",
        "    insights.append(\"\\n● Top Complaint Themes:\")\n",
        "    if top_complaints:\n",
        "        for word, count in top_complaints:\n",
        "            insights.append(f\"- {word.capitalize()} ({count} mentions)\")\n",
        "    else:\n",
        "        insights.append(\"- No significant complaints identified\")\n",
        "\n",
        "    # Top praises\n",
        "    insights.append(\"\\n● Top Praise Themes:\")\n",
        "    if top_praises:\n",
        "        for word, count in top_praises:\n",
        "            insights.append(f\"- {word.capitalize()} ({count} mentions)\")\n",
        "    else:\n",
        "        insights.append(\"- No explicit praises identified in the sample\")\n",
        "\n",
        "        # Fallback to positive sentiment analysis\n",
        "        if sentiment_data['Positive'] > 0:\n",
        "            insights.append(f\"  Note: {sentiment_data['Positive']:.1f}% of reviews were positive but didn't contain specific praise words\")\n",
        "            insights.append(\"  Consider refining the praise extraction prompt or examining positive reviews manually\")\n",
        "\n",
        "    # Things mentioned\n",
        "    all_things = []\n",
        "    for things in results_df['Things Mentioned'].dropna():\n",
        "        if things not in [None, 'None', '']:\n",
        "            all_things.extend([t.strip().lower() for t in str(things).split(',')])\n",
        "\n",
        "    if all_things:\n",
        "        thing_counts = pd.Series(all_things).value_counts().head(10)\n",
        "        insights.append(\"\\n● Most Frequently Mentioned Aspects:\")\n",
        "        for thing, count in thing_counts.items():\n",
        "            insights.append(f\"- {thing.capitalize()} ({count} mentions)\")\n",
        "    else:\n",
        "        insights.append(\"\\n● No specific aspects were frequently mentioned\")\n",
        "\n",
        "    return '\\n'.join(insights)"
      ]
    },
    {
      "cell_type": "code",
      "execution_count": 84,
      "metadata": {
        "id": "KOT86hBwTsTD"
      },
      "outputs": [],
      "source": [
        "# Generate Recommendations\n",
        "def generate_recommendations():\n",
        "    recommendations = []\n",
        "\n",
        "    # Based on sentiment\n",
        "    if sentiment_data['Positive'] > 50:\n",
        "        recommendations.append(\"● Leverage the positive sentiment ({}%) in marketing materials.\".format(sentiment_data['Positive']))\n",
        "    if sentiment_data['Negative'] > 20:\n",
        "        recommendations.append(\"● Address negative feedback as it represents a significant portion ({:.1f}%) of reviews.\".format(sentiment_data['Negative']))\n",
        "\n",
        "    # Based on praises\n",
        "    if top_praises:\n",
        "        main_praise = top_praises[0][0]\n",
        "        recommendations.append(f\"● Highlight '{main_praise}' in your marketing as it's the most common positive aspect.\")\n",
        "    elif sentiment_data['Positive'] > 0:\n",
        "        recommendations.append(\"● Analyze positive reviews manually to identify common praise themes that weren't automatically detected.\")\n",
        "\n",
        "    # Based on complaints\n",
        "    if top_complaints:\n",
        "        main_complaint = top_complaints[0][0]\n",
        "        recommendations.append(f\"● Focus on improving '{main_complaint}' as it's the most common complaint.\")\n",
        "\n",
        "    # General recommendations\n",
        "    recommendations.append(\"● Consider implementing a structured feedback system to better capture positive and negative aspects.\")\n",
        "    recommendations.append(\"● Train staff to encourage guests to provide specific feedback about what they enjoyed.\")\n",
        "    recommendations.append(\"● If praise detection remains low, manually analyze a subset of positive reviews to improve the AI's extraction capability.\")\n",
        "\n",
        "    return '\\n'.join(recommendations)"
      ]
    },
    {
      "cell_type": "markdown",
      "metadata": {
        "id": "-wVPoOnfazG8"
      },
      "source": [
        "## Results"
      ]
    },
    {
      "cell_type": "code",
      "execution_count": 85,
      "metadata": {
        "colab": {
          "base_uri": "https://localhost:8080/"
        },
        "id": "hwHpI8FRTvNf",
        "outputId": "b24518df-c931-48d6-f85e-a6cefb6a20bb"
      },
      "outputs": [
        {
          "name": "stdout",
          "output_type": "stream",
          "text": [
            "================================================================================\n",
            "                         COMPREHENSIVE REVIEW ANALYSIS                          \n",
            "================================================================================\n",
            "\n",
            "Total Reviews Analyzed: 250\n",
            "\n",
            "● Sentiment Analysis:\n",
            "- Positive reviews: 86.0%\n",
            "- Negative reviews: 0.8%\n",
            "- Mixed reviews: 13.2%\n",
            "\n",
            "● Review Categories:\n",
            "- Only Praises: 73.2%\n",
            "- Both: 26.8%\n",
            "\n",
            "● Top Complaint Themes:\n",
            "- Sunrise (7 mentions)\n",
            "- Fog (6 mentions)\n",
            "- Facilities (5 mentions)\n",
            "- High (5 mentions)\n",
            "- Toilet (5 mentions)\n",
            "- Cold (5 mentions)\n",
            "- Conditions (5 mentions)\n",
            "- Horse (4 mentions)\n",
            "- Weather (4 mentions)\n",
            "- Stated (4 mentions)\n",
            "\n",
            "● Top Praise Themes:\n",
            "- Bromo (218 mentions)\n",
            "- Gunung (174 mentions)\n",
            "- Beauty (145 mentions)\n",
            "- Sunrise (115 mentions)\n",
            "- Natural (111 mentions)\n",
            "- Unique (100 mentions)\n",
            "- Maintain (97 mentions)\n",
            "- Breathtaking (58 mentions)\n",
            "- View (58 mentions)\n",
            "- Views (57 mentions)\n",
            "\n",
            "● No specific aspects were frequently mentioned\n",
            "\n",
            "================================================================================\n",
            "                           STRATEGIC RECOMMENDATIONS                            \n",
            "================================================================================\n",
            "\n",
            "● Leverage the positive sentiment (86.0%) in marketing materials.\n",
            "● Highlight 'bromo' in your marketing as it's the most common positive aspect.\n",
            "● Focus on improving 'sunrise' as it's the most common complaint.\n",
            "● Consider implementing a structured feedback system to better capture positive and negative aspects.\n",
            "● Train staff to encourage guests to provide specific feedback about what they enjoyed.\n",
            "● If praise detection remains low, manually analyze a subset of positive reviews to improve the AI's extraction capability.\n"
          ]
        }
      ],
      "source": [
        "# Display results\n",
        "print(\"=\"*80)\n",
        "print(\"COMPREHENSIVE REVIEW ANALYSIS\".center(80))\n",
        "print(\"=\"*80)\n",
        "print(f\"\\nTotal Reviews Analyzed: {len(results_df)}\")\n",
        "print(\"\\n\" + generate_insights())\n",
        "\n",
        "print(\"\\n\" + \"=\"*80)\n",
        "print(\"STRATEGIC RECOMMENDATIONS\".center(80))\n",
        "print(\"=\"*80)\n",
        "print(\"\\n\" + generate_recommendations())"
      ]
    },
    {
      "cell_type": "code",
      "execution_count": 86,
      "metadata": {
        "colab": {
          "base_uri": "https://localhost:8080/",
          "height": 871
        },
        "id": "dT89cpDcT0vc",
        "outputId": "704329a7-61a9-41c5-ffa2-9df1798ea5b8"
      },
      "outputs": [
        {
          "data": {
            "image/png": "[encoded data removed]",
            "text/plain": [
              "<Figure size 1500x1000 with 4 Axes>"
            ]
          },
          "metadata": {},
          "output_type": "display_data"
        }
      ],
      "source": [
        "# Visualization\n",
        "plt.figure(figsize=(15, 10))\n",
        "\n",
        "# Sentiment Pie Chart\n",
        "plt.subplot(2, 2, 1)\n",
        "plt.pie(sentiment_counts, labels=sentiment_counts.index, autopct='%1.1f%%', colors=['green', 'red', 'yellow'])\n",
        "plt.title('Review Sentiment Distribution')\n",
        "\n",
        "# Category Pie Chart\n",
        "plt.subplot(2, 2, 2)\n",
        "plt.pie(category_counts, labels=category_counts.index, autopct='%1.1f%%')\n",
        "plt.title('Review Categories')\n",
        "\n",
        "# Top Complaints Bar Chart\n",
        "plt.subplot(2, 2, 3)\n",
        "complaint_words, complaint_counts = zip(*top_complaints)\n",
        "plt.barh(complaint_words, complaint_counts, color='red')\n",
        "plt.title('Top 10 Complaint Words')\n",
        "plt.gca().invert_yaxis()\n",
        "\n",
        "# Top Complaints Bar Chart\n",
        "plt.subplot(2, 2, 4)\n",
        "praises_words, praises_counts = zip(*top_praises)\n",
        "plt.barh(praises_words, praises_counts, color='green')\n",
        "plt.title('Top 10 Praises Words')\n",
        "plt.gca().invert_yaxis()\n",
        "\n",
        "plt.tight_layout()\n",
        "plt.show()"
      ]
    }
  ],
  "metadata": {
    "accelerator": "GPU",
    "colab": {
      "gpuType": "T4",
      "provenance": []
    },
    "kernelspec": {
      "display_name": "Python 3",
      "name": "python3"
    },
    "language_info": {
      "name": "python"
    }
  },
  "nbformat": 4,
  "nbformat_minor": 0
}
